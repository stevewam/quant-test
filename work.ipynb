{
 "cells": [
  {
   "cell_type": "code",
   "execution_count": 2,
   "source": [
    "import pandas as pd"
   ],
   "outputs": [],
   "metadata": {}
  },
  {
   "cell_type": "markdown",
   "source": [
    "<h1> Part 1(a): Employee with greater salary than their manager </h1>"
   ],
   "metadata": {}
  },
  {
   "cell_type": "code",
   "execution_count": 4,
   "source": [
    "empl_df = pd.read_csv(\"data/employee_test.csv\")\n",
    "empl_df.head()"
   ],
   "outputs": [
    {
     "output_type": "execute_result",
     "data": {
      "text/html": [
       "<div>\n",
       "<style scoped>\n",
       "    .dataframe tbody tr th:only-of-type {\n",
       "        vertical-align: middle;\n",
       "    }\n",
       "\n",
       "    .dataframe tbody tr th {\n",
       "        vertical-align: top;\n",
       "    }\n",
       "\n",
       "    .dataframe thead th {\n",
       "        text-align: right;\n",
       "    }\n",
       "</style>\n",
       "<table border=\"1\" class=\"dataframe\">\n",
       "  <thead>\n",
       "    <tr style=\"text-align: right;\">\n",
       "      <th></th>\n",
       "      <th>id</th>\n",
       "      <th>name</th>\n",
       "      <th>salary</th>\n",
       "      <th>manager_id</th>\n",
       "    </tr>\n",
       "  </thead>\n",
       "  <tbody>\n",
       "    <tr>\n",
       "      <th>0</th>\n",
       "      <td>1</td>\n",
       "      <td>John</td>\n",
       "      <td>300</td>\n",
       "      <td>3.0</td>\n",
       "    </tr>\n",
       "    <tr>\n",
       "      <th>1</th>\n",
       "      <td>2</td>\n",
       "      <td>Mike</td>\n",
       "      <td>200</td>\n",
       "      <td>3.0</td>\n",
       "    </tr>\n",
       "    <tr>\n",
       "      <th>2</th>\n",
       "      <td>3</td>\n",
       "      <td>Sally</td>\n",
       "      <td>550</td>\n",
       "      <td>4.0</td>\n",
       "    </tr>\n",
       "    <tr>\n",
       "      <th>3</th>\n",
       "      <td>4</td>\n",
       "      <td>Jane</td>\n",
       "      <td>500</td>\n",
       "      <td>7.0</td>\n",
       "    </tr>\n",
       "    <tr>\n",
       "      <th>4</th>\n",
       "      <td>5</td>\n",
       "      <td>Joe</td>\n",
       "      <td>600</td>\n",
       "      <td>7.0</td>\n",
       "    </tr>\n",
       "  </tbody>\n",
       "</table>\n",
       "</div>"
      ],
      "text/plain": [
       "   id   name  salary  manager_id\n",
       "0   1   John     300         3.0\n",
       "1   2   Mike     200         3.0\n",
       "2   3  Sally     550         4.0\n",
       "3   4   Jane     500         7.0\n",
       "4   5    Joe     600         7.0"
      ]
     },
     "metadata": {},
     "execution_count": 4
    }
   ],
   "metadata": {}
  },
  {
   "cell_type": "code",
   "execution_count": null,
   "source": [
    "def emplGreaterSalary(empl_df):\n",
    "    \"\"\"\n",
    "    Retrieve list of employees with salary grater than their manager\n",
    "\n",
    "    Arguments:\n",
    "    empl_df -- employee information, dataframe with 4 columns\n",
    "\n",
    "    Return:\n",
    "    greater_empl_names -- list of employees, list\n",
    "    empl_mgr_df -- employee and their respective manager's information, dataframe with 6 columns \n",
    "    \"\"\"\n",
    "\n",
    "    # Create a new table with both employee and manager information\n",
    "    empl_mgr_df = empl_df.merge(empl_df[['id', 'salary']],\n",
    "                        how='left',\n",
    "                        left_on='manager_id',\n",
    "                        right_on='id',\n",
    "                        suffixes=('_empl', '_mgr'))\n",
    "    \n",
    "    # Apply filter where an employee's salary is larger than their immediate manager\n",
    "    greater_empl_df = empl_mgr_df[empl_mgr_df['salary_empl'] > empl_mgr_df['salary_mgr']]\n",
    "\n",
    "    # Retrieve the names of employees fulfilling the above filter\n",
    "    greater_empl_names = greater_empl_df['name'].to_list()\n",
    "\n",
    "    # Sanity assertions\n",
    "    assert empl_mgr_df.shape[0] == empl_df.shape[0], \"Mismatched in DataFrame sizes.\"\n",
    "\n",
    "    return greater_empl_names, empl_mgr_df\n"
   ],
   "outputs": [],
   "metadata": {}
  },
  {
   "cell_type": "code",
   "execution_count": null,
   "source": [
    "greater_empl_names, _ = emplGreaterSalary(empl_df)\n",
    "print(\"People with salaries greater than their immediate manager:\", \n",
    "        \", \".join(greater_empl_names))"
   ],
   "outputs": [],
   "metadata": {}
  },
  {
   "cell_type": "markdown",
   "source": [
    "<h1> Part 1(b): Average salary of non-managers </h1>"
   ],
   "metadata": {}
  },
  {
   "cell_type": "code",
   "execution_count": 5,
   "source": [
    "def nonMgrSalary(empl_df):\n",
    "    \"\"\"\n",
    "    Compute the average salary of non-managers\n",
    "\n",
    "    Arguments:\n",
    "    empl_df -- employee information, dataframe with 4 columns\n",
    "\n",
    "    Return:\n",
    "    avg_non_mgr_salary -- average salary of non-managers, float 2 decimals\n",
    "    non_mgr_df -- information of non-manager employee, dataframe with 4 columns \n",
    "    \"\"\"\n",
    "\n",
    "    # Get a list of employee IDs who are managers\n",
    "    mgr_list = empl_df['manager_id'].dropna().unique()\n",
    "\n",
    "    # Apply filter where employee ID is not in managers list\n",
    "    non_mgr_df = empl_df[~empl_df['id'].isin(mgr_list)]\n",
    "\n",
    "    # Take the average of the non-managers salary\n",
    "    avg_non_mgr_salary = non_mgr_df['salary'].mean()\n",
    "\n",
    "    return round(avg_non_mgr_salary, 2)"
   ],
   "outputs": [],
   "metadata": {}
  },
  {
   "cell_type": "code",
   "execution_count": 7,
   "source": [
    "avg_non_mgr_salary = nonMgrSalary(empl_df)\n",
    "print(\"Average salary of employees who do not manage anyone:\", avg_non_mgr_salary)"
   ],
   "outputs": [
    {
     "output_type": "stream",
     "name": "stdout",
     "text": [
      "Average salary of employees who do not manage anyone: 425.0\n"
     ]
    }
   ],
   "metadata": {}
  },
  {
   "cell_type": "markdown",
   "source": [
    "<h1> Part 2: Exists </h1>"
   ],
   "metadata": {}
  },
  {
   "cell_type": "code",
   "execution_count": 8,
   "source": [
    "def exists(var):\n",
    "    \"\"\"\n",
    "    Check if a variable symbol exists globally\n",
    "\n",
    "    Arguments:\n",
    "    var -- symbol of variable, string\n",
    "\n",
    "    Return:\n",
    "    boolean variable whether var exist in globals\n",
    "    \"\"\"\n",
    "    if type(var) != str:\n",
    "        raise TypeError(\"Input has to be a string.\")\n",
    "    \n",
    "    return var in globals()"
   ],
   "outputs": [],
   "metadata": {}
  },
  {
   "cell_type": "code",
   "execution_count": 9,
   "source": [
    "a = 1\n",
    "print(\"Does variable 'a' exist?\", exists('a'))\n",
    "print(\"Does variable 'b' exist?\", exists('b'))"
   ],
   "outputs": [
    {
     "output_type": "stream",
     "name": "stdout",
     "text": [
      "Does variable 'a' exist? True\n",
      "Does variable 'b' exist? False\n"
     ]
    }
   ],
   "metadata": {}
  },
  {
   "cell_type": "code",
   "execution_count": 10,
   "source": [
    "print(\"Does variable 'a' exist?\", exists(a))"
   ],
   "outputs": [
    {
     "output_type": "error",
     "ename": "TypeError",
     "evalue": "Input has to be a string.",
     "traceback": [
      "\u001b[1;31m---------------------------------------------------------------------------\u001b[0m",
      "\u001b[1;31mTypeError\u001b[0m                                 Traceback (most recent call last)",
      "\u001b[1;32m~\\AppData\\Local\\Temp/ipykernel_16812/1064286823.py\u001b[0m in \u001b[0;36m<module>\u001b[1;34m\u001b[0m\n\u001b[1;32m----> 1\u001b[1;33m \u001b[0mprint\u001b[0m\u001b[1;33m(\u001b[0m\u001b[1;34m\"Does variable 'a' exist?\"\u001b[0m\u001b[1;33m,\u001b[0m \u001b[0mexists\u001b[0m\u001b[1;33m(\u001b[0m\u001b[0ma\u001b[0m\u001b[1;33m)\u001b[0m\u001b[1;33m)\u001b[0m\u001b[1;33m\u001b[0m\u001b[1;33m\u001b[0m\u001b[0m\n\u001b[0m",
      "\u001b[1;32m~\\AppData\\Local\\Temp/ipykernel_16812/1603661831.py\u001b[0m in \u001b[0;36mexists\u001b[1;34m(var)\u001b[0m\n\u001b[0;32m     10\u001b[0m     \"\"\"\n\u001b[0;32m     11\u001b[0m     \u001b[1;32mif\u001b[0m \u001b[0mtype\u001b[0m\u001b[1;33m(\u001b[0m\u001b[0mvar\u001b[0m\u001b[1;33m)\u001b[0m \u001b[1;33m!=\u001b[0m \u001b[0mstr\u001b[0m\u001b[1;33m:\u001b[0m\u001b[1;33m\u001b[0m\u001b[1;33m\u001b[0m\u001b[0m\n\u001b[1;32m---> 12\u001b[1;33m         \u001b[1;32mraise\u001b[0m \u001b[0mTypeError\u001b[0m\u001b[1;33m(\u001b[0m\u001b[1;34m\"Input has to be a string.\"\u001b[0m\u001b[1;33m)\u001b[0m\u001b[1;33m\u001b[0m\u001b[1;33m\u001b[0m\u001b[0m\n\u001b[0m\u001b[0;32m     13\u001b[0m \u001b[1;33m\u001b[0m\u001b[0m\n\u001b[0;32m     14\u001b[0m     \u001b[1;32mreturn\u001b[0m \u001b[0mvar\u001b[0m \u001b[1;32min\u001b[0m \u001b[0mglobals\u001b[0m\u001b[1;33m(\u001b[0m\u001b[1;33m)\u001b[0m\u001b[1;33m\u001b[0m\u001b[1;33m\u001b[0m\u001b[0m\n",
      "\u001b[1;31mTypeError\u001b[0m: Input has to be a string."
     ]
    }
   ],
   "metadata": {}
  },
  {
   "cell_type": "markdown",
   "source": [
    "<h1>Part 3: Pascal triangle</h1>"
   ],
   "metadata": {}
  },
  {
   "cell_type": "markdown",
   "source": [
    "\n",
    "For an element $i$ in row $n$ in a Pascal triangle:\n",
    "$$\n",
    "C_{n, i} = \\frac{n!}{i!(n-i)!}\\\\\n",
    "$$\n",
    "\n",
    "To simplify calculation, derive the next term in relation to the previous term:\n",
    "$$\n",
    "C_{n, i+1} = \\frac{n!}{(i+1)!(n-(i+1))!}\\\\\n",
    "C_{n, i+1} = \\frac{n!}{i!(n-i)!}\\frac{(n-i)}{(i+1)}\\\\\n",
    "C_{n, i+1} = C_{n, i}\\frac{(n-i)}{(i+1)}\\\\\n",
    "$$\n"
   ],
   "metadata": {}
  },
  {
   "cell_type": "code",
   "execution_count": 12,
   "source": [
    "def pascal_row(n):\n",
    "    \"\"\"\n",
    "    Compute the n-th row of the Pascal triangle\n",
    "\n",
    "    Arguments:\n",
    "    n -- row index, integer\n",
    "\n",
    "    Return:\n",
    "    row -- n-th row of the Pascal triangle, list\n",
    "    \"\"\"\n",
    "    if type(n) != int:\n",
    "        raise TypeError(\"Input has to be an integer.\")\n",
    "\n",
    "    row = [1]\n",
    "    for i in range(n-1):\n",
    "        term = int(row[i]*(n - i)/(i + 1))\n",
    "        row.append(term)\n",
    "\n",
    "    return row"
   ],
   "outputs": [],
   "metadata": {}
  },
  {
   "cell_type": "code",
   "execution_count": 13,
   "source": [
    "row = pascal_row(7)\n",
    "print(\"7-th row of Pascal triangle:\", \" \".join([str(i) for i in row]))"
   ],
   "outputs": [
    {
     "output_type": "stream",
     "name": "stdout",
     "text": [
      "7-th row of Pascal triangle: 1 7 21 35 35 21 7\n"
     ]
    }
   ],
   "metadata": {}
  }
 ],
 "metadata": {
  "orig_nbformat": 4,
  "language_info": {
   "name": "python",
   "version": "3.9.0",
   "mimetype": "text/x-python",
   "codemirror_mode": {
    "name": "ipython",
    "version": 3
   },
   "pygments_lexer": "ipython3",
   "nbconvert_exporter": "python",
   "file_extension": ".py"
  },
  "kernelspec": {
   "name": "python3",
   "display_name": "Python 3.9.0 64-bit"
  },
  "interpreter": {
   "hash": "f072f515e3c5553065c9df26789aad47a13957d7deed1f83531f1ed6793a3a60"
  }
 },
 "nbformat": 4,
 "nbformat_minor": 2
}