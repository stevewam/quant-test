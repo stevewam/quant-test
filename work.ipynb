{
 "cells": [
  {
   "cell_type": "markdown",
   "source": [
    "<h1> Part 1(a): Employee with greater salary than their manager </h1>"
   ],
   "metadata": {}
  },
  {
   "cell_type": "code",
   "execution_count": 541,
   "source": [
    "import pandas as pd"
   ],
   "outputs": [],
   "metadata": {}
  },
  {
   "cell_type": "code",
   "execution_count": 542,
   "source": [
    "empl_df = pd.read_csv(\"data/employee_test.csv\")\n",
    "empl_df.head()"
   ],
   "outputs": [
    {
     "output_type": "execute_result",
     "data": {
      "text/plain": [
       "   id   name  salary  manager_id\n",
       "0   1   John     300         3.0\n",
       "1   2   Mike     200         3.0\n",
       "2   3  Sally     550         4.0\n",
       "3   4   Jane     500         7.0\n",
       "4   5    Joe     600         7.0"
      ],
      "text/html": [
       "<div>\n",
       "<style scoped>\n",
       "    .dataframe tbody tr th:only-of-type {\n",
       "        vertical-align: middle;\n",
       "    }\n",
       "\n",
       "    .dataframe tbody tr th {\n",
       "        vertical-align: top;\n",
       "    }\n",
       "\n",
       "    .dataframe thead th {\n",
       "        text-align: right;\n",
       "    }\n",
       "</style>\n",
       "<table border=\"1\" class=\"dataframe\">\n",
       "  <thead>\n",
       "    <tr style=\"text-align: right;\">\n",
       "      <th></th>\n",
       "      <th>id</th>\n",
       "      <th>name</th>\n",
       "      <th>salary</th>\n",
       "      <th>manager_id</th>\n",
       "    </tr>\n",
       "  </thead>\n",
       "  <tbody>\n",
       "    <tr>\n",
       "      <th>0</th>\n",
       "      <td>1</td>\n",
       "      <td>John</td>\n",
       "      <td>300</td>\n",
       "      <td>3.0</td>\n",
       "    </tr>\n",
       "    <tr>\n",
       "      <th>1</th>\n",
       "      <td>2</td>\n",
       "      <td>Mike</td>\n",
       "      <td>200</td>\n",
       "      <td>3.0</td>\n",
       "    </tr>\n",
       "    <tr>\n",
       "      <th>2</th>\n",
       "      <td>3</td>\n",
       "      <td>Sally</td>\n",
       "      <td>550</td>\n",
       "      <td>4.0</td>\n",
       "    </tr>\n",
       "    <tr>\n",
       "      <th>3</th>\n",
       "      <td>4</td>\n",
       "      <td>Jane</td>\n",
       "      <td>500</td>\n",
       "      <td>7.0</td>\n",
       "    </tr>\n",
       "    <tr>\n",
       "      <th>4</th>\n",
       "      <td>5</td>\n",
       "      <td>Joe</td>\n",
       "      <td>600</td>\n",
       "      <td>7.0</td>\n",
       "    </tr>\n",
       "  </tbody>\n",
       "</table>\n",
       "</div>"
      ]
     },
     "metadata": {},
     "execution_count": 542
    }
   ],
   "metadata": {}
  },
  {
   "cell_type": "code",
   "execution_count": 543,
   "source": [
    "def empl_greater_salary(empl_df):\n",
    "    \"\"\"\n",
    "    Retrieve list of employees with salary grater than their manager\n",
    "\n",
    "    Arguments:\n",
    "    empl_df -- employee information, dataframe with 4 columns\n",
    "\n",
    "    Return:\n",
    "    greater_empl_names -- list of employees, list\n",
    "    empl_mgr_df -- employee and their respective manager's information, dataframe with 6 columns \n",
    "    \"\"\"\n",
    "\n",
    "    # Create a new table with both employee and manager information\n",
    "    empl_mgr_df = empl_df.merge(empl_df[['id', 'salary']],\n",
    "                        how='left',\n",
    "                        left_on='manager_id',\n",
    "                        right_on='id',\n",
    "                        suffixes=('_empl', '_mgr'))\n",
    "    \n",
    "    # Apply filter where an employee's salary is larger than their immediate manager\n",
    "    greater_empl_df = empl_mgr_df[empl_mgr_df['salary_empl'] > empl_mgr_df['salary_mgr']]\n",
    "\n",
    "    # Retrieve the names of employees fulfilling the above filter\n",
    "    greater_empl_names = greater_empl_df['name'].to_list()\n",
    "\n",
    "    # Sanity assertions\n",
    "    assert empl_mgr_df.shape[0] == empl_df.shape[0], \"Mismatched in DataFrame sizes.\"\n",
    "\n",
    "    return greater_empl_names, empl_mgr_df\n"
   ],
   "outputs": [],
   "metadata": {}
  },
  {
   "cell_type": "code",
   "execution_count": 544,
   "source": [
    "greater_empl_names, _ = empl_greater_salary(empl_df)\n",
    "print(\"People with salaries greater than their immediate manager:\", \n",
    "        \", \".join(greater_empl_names))"
   ],
   "outputs": [
    {
     "output_type": "stream",
     "name": "stdout",
     "text": [
      "People with salaries greater than their immediate manager: Sally, Joe, Dan\n"
     ]
    }
   ],
   "metadata": {}
  },
  {
   "cell_type": "markdown",
   "source": [
    "<h1> Part 1(b): Average salary of non-managers </h1>"
   ],
   "metadata": {}
  },
  {
   "cell_type": "code",
   "execution_count": 546,
   "source": [
    "def non_mgr_salary(empl_df):\n",
    "    \"\"\"\n",
    "    Compute the average salary of non-managers\n",
    "\n",
    "    Arguments:\n",
    "    empl_df -- employee information, dataframe with 4 columns\n",
    "\n",
    "    Return:\n",
    "    avg_non_mgr_salary -- average salary of non-managers, float 2 decimals\n",
    "    non_mgr_df -- information of non-manager employee, dataframe with 4 columns \n",
    "    \"\"\"\n",
    "\n",
    "    # Get a list of employee IDs who are managers\n",
    "    mgr_list = empl_df['manager_id'].dropna().unique()\n",
    "\n",
    "    # Apply filter where employee ID is not in managers list\n",
    "    non_mgr_df = empl_df[~empl_df['id'].isin(mgr_list)]\n",
    "\n",
    "    # Take the average of the non-managers salary\n",
    "    avg_non_mgr_salary = non_mgr_df['salary'].mean()\n",
    "\n",
    "    return round(avg_non_mgr_salary, 2)"
   ],
   "outputs": [],
   "metadata": {}
  },
  {
   "cell_type": "code",
   "execution_count": 547,
   "source": [
    "avg_non_mgr_salary = non_mgr_salary(empl_df)\n",
    "print(\"Average salary of employees who do not manage anyone:\", avg_non_mgr_salary)"
   ],
   "outputs": [
    {
     "output_type": "stream",
     "name": "stdout",
     "text": [
      "Average salary of employees who do not manage anyone: 425.0\n"
     ]
    }
   ],
   "metadata": {}
  },
  {
   "cell_type": "markdown",
   "source": [
    "<h1> Part 2: Exists </h1>"
   ],
   "metadata": {}
  },
  {
   "cell_type": "code",
   "execution_count": 8,
   "source": [
    "def exists(var):\n",
    "    \"\"\"\n",
    "    Check if a variable symbol exists globally\n",
    "\n",
    "    Arguments:\n",
    "    var -- symbol of variable, string\n",
    "\n",
    "    Return:\n",
    "    boolean variable whether var exist in globals\n",
    "    \"\"\"\n",
    "    if type(var) != str:\n",
    "        raise TypeError(\"Input has to be a string.\")\n",
    "    \n",
    "    return var in globals()"
   ],
   "outputs": [],
   "metadata": {}
  },
  {
   "cell_type": "code",
   "execution_count": 9,
   "source": [
    "a = 1\n",
    "print(\"Does variable 'a' exist?\", exists('a'))\n",
    "print(\"Does variable 'b' exist?\", exists('b'))"
   ],
   "outputs": [
    {
     "output_type": "stream",
     "name": "stdout",
     "text": [
      "Does variable 'a' exist? True\n",
      "Does variable 'b' exist? False\n"
     ]
    }
   ],
   "metadata": {}
  },
  {
   "cell_type": "code",
   "execution_count": 10,
   "source": [
    "print(\"Does variable 'a' exist?\", exists(a))"
   ],
   "outputs": [
    {
     "output_type": "error",
     "ename": "TypeError",
     "evalue": "Input has to be a string.",
     "traceback": [
      "\u001b[1;31m---------------------------------------------------------------------------\u001b[0m",
      "\u001b[1;31mTypeError\u001b[0m                                 Traceback (most recent call last)",
      "\u001b[1;32m~\\AppData\\Local\\Temp/ipykernel_16812/1064286823.py\u001b[0m in \u001b[0;36m<module>\u001b[1;34m\u001b[0m\n\u001b[1;32m----> 1\u001b[1;33m \u001b[0mprint\u001b[0m\u001b[1;33m(\u001b[0m\u001b[1;34m\"Does variable 'a' exist?\"\u001b[0m\u001b[1;33m,\u001b[0m \u001b[0mexists\u001b[0m\u001b[1;33m(\u001b[0m\u001b[0ma\u001b[0m\u001b[1;33m)\u001b[0m\u001b[1;33m)\u001b[0m\u001b[1;33m\u001b[0m\u001b[1;33m\u001b[0m\u001b[0m\n\u001b[0m",
      "\u001b[1;32m~\\AppData\\Local\\Temp/ipykernel_16812/1603661831.py\u001b[0m in \u001b[0;36mexists\u001b[1;34m(var)\u001b[0m\n\u001b[0;32m     10\u001b[0m     \"\"\"\n\u001b[0;32m     11\u001b[0m     \u001b[1;32mif\u001b[0m \u001b[0mtype\u001b[0m\u001b[1;33m(\u001b[0m\u001b[0mvar\u001b[0m\u001b[1;33m)\u001b[0m \u001b[1;33m!=\u001b[0m \u001b[0mstr\u001b[0m\u001b[1;33m:\u001b[0m\u001b[1;33m\u001b[0m\u001b[1;33m\u001b[0m\u001b[0m\n\u001b[1;32m---> 12\u001b[1;33m         \u001b[1;32mraise\u001b[0m \u001b[0mTypeError\u001b[0m\u001b[1;33m(\u001b[0m\u001b[1;34m\"Input has to be a string.\"\u001b[0m\u001b[1;33m)\u001b[0m\u001b[1;33m\u001b[0m\u001b[1;33m\u001b[0m\u001b[0m\n\u001b[0m\u001b[0;32m     13\u001b[0m \u001b[1;33m\u001b[0m\u001b[0m\n\u001b[0;32m     14\u001b[0m     \u001b[1;32mreturn\u001b[0m \u001b[0mvar\u001b[0m \u001b[1;32min\u001b[0m \u001b[0mglobals\u001b[0m\u001b[1;33m(\u001b[0m\u001b[1;33m)\u001b[0m\u001b[1;33m\u001b[0m\u001b[1;33m\u001b[0m\u001b[0m\n",
      "\u001b[1;31mTypeError\u001b[0m: Input has to be a string."
     ]
    }
   ],
   "metadata": {}
  },
  {
   "cell_type": "markdown",
   "source": [
    "<h1>Part 3: Pascal triangle</h1>"
   ],
   "metadata": {}
  },
  {
   "cell_type": "markdown",
   "source": [
    "\n",
    "For an element $i$ in row $n$ in a Pascal triangle:\n",
    "$$\n",
    "C_{n, i} = \\frac{n!}{i!(n-i)!}\\\\\n",
    "$$\n",
    "\n",
    "To simplify calculation, derive the next term in relation to the previous term:\n",
    "$$\n",
    "C_{n, i+1} = \\frac{n!}{(i+1)!(n-(i+1))!}\\\\\n",
    "C_{n, i+1} = \\frac{n!}{i!(n-i)!}\\frac{(n-i)}{(i+1)}\\\\\n",
    "C_{n, i+1} = C_{n, i}\\frac{(n-i)}{(i+1)}\\\\\n",
    "$$\n"
   ],
   "metadata": {}
  },
  {
   "cell_type": "code",
   "execution_count": 203,
   "source": [
    "def pascal_row(n):\n",
    "    \"\"\"\n",
    "    Compute the n-th row of the Pascal triangle\n",
    "\n",
    "    Arguments:\n",
    "    n -- row index, integer\n",
    "\n",
    "    Return:\n",
    "    row -- n-th row of the Pascal triangle, list\n",
    "    \"\"\"\n",
    "    if type(n) != int:\n",
    "        raise TypeError(\"Input has to be an integer.\")\n",
    "    elif n < 0:\n",
    "        raise ValueError(\"n cannot be negative.\")\n",
    "\n",
    "    row = [1]\n",
    "    for i in range(n-1):\n",
    "        term = int(row[i]*(n - i)/(i + 1))\n",
    "        row.append(term)\n",
    "\n",
    "    return row"
   ],
   "outputs": [],
   "metadata": {}
  },
  {
   "cell_type": "code",
   "execution_count": 199,
   "source": [
    "row = pascal_row(7)\n",
    "print(\"7-th row of Pascal triangle:\", \" \".join([str(i) for i in row]))"
   ],
   "outputs": [
    {
     "output_type": "stream",
     "name": "stdout",
     "text": [
      "7-th row of Pascal triangle: 1 7 21 35 35 21 7\n"
     ]
    }
   ],
   "metadata": {}
  },
  {
   "cell_type": "markdown",
   "source": [
    "<h1>Part 4(a): VaR95% and CVaR95% using historical daily returns</h1>\n",
    "\n",
    "Assumptions:\n",
    "- Buy at close on 2016/01/04 (for symmetry)\n",
    "- Daily returns = (prev. day's closing - today's closing)/prev. day's closing\n",
    "- There are no dividends\n",
    "- Trading days are continuous (weekends and off days are ignored)\n",
    "- Stocks are divisible e.g. we can own 0.9 of an AAPL stock\n",
    "- Assume no rebalancing"
   ],
   "metadata": {}
  },
  {
   "cell_type": "code",
   "execution_count": 368,
   "source": [
    "# !pip install yfinance\n",
    "import yfinance as yf\n",
    "import numpy as np"
   ],
   "outputs": [],
   "metadata": {}
  },
  {
   "cell_type": "code",
   "execution_count": 462,
   "source": [
    "allocation = {\n",
    "    'AAPL': 0.15,\n",
    "    'IBM': 0.20,\n",
    "    'GOOG': 0.20,\n",
    "    'BP': 0.15,\n",
    "    'XOM': 0.10,\n",
    "    'COST': 0.15,\n",
    "    'GS': 0.05\n",
    "}\n",
    "\n",
    "tickers = list(allocation.keys())\n",
    "weights = np.array(list(allocation.values()))\n",
    "\n",
    "assert weights.sum() == 1, \"Weights do not sum up to 1\""
   ],
   "outputs": [],
   "metadata": {}
  },
  {
   "cell_type": "code",
   "execution_count": 463,
   "source": [
    "history = yf.download(tickers, start = '2016-01-01', end = '2016-12-31')\n",
    "history = history[\"Close\"]"
   ],
   "outputs": [
    {
     "output_type": "stream",
     "name": "stdout",
     "text": [
      "[*********************100%***********************]  7 of 7 completed\n"
     ]
    }
   ],
   "metadata": {}
  },
  {
   "cell_type": "code",
   "execution_count": 465,
   "source": [
    "def var_historical(history, weights, alpha):\n",
    "    \"\"\"\n",
    "    Compute historical VaR and CVaR for a given data\n",
    "\n",
    "    Arguments:\n",
    "    history -- historical price data (output from yahoo finance download), dataframe\n",
    "    weights -- list of weights (same ticker order as history columns), np.array\n",
    "    alpha -- level of significance, int\n",
    "\n",
    "    Return:\n",
    "    var -- float\n",
    "    cvar -- float\n",
    "    \"\"\"\n",
    "    if alpha > 1 or alpha < 0:\n",
    "        raise ValueError(\"Alpha must be between 0 and 1\")\n",
    "\n",
    "    # Compute daily returns\n",
    "    daily_returns = history.pct_change()[1:]\n",
    "\n",
    "    # Compute cumulative daily returns\n",
    "    cum_returns = (1 + daily_returns).cumprod()\n",
    "\n",
    "    # Multiply cumulative returns with weights to calculate total portfolio value\n",
    "    pfl_value = (cum_returns * weights).sum(axis=1)\n",
    "                    \n",
    "    # Compute portfolio daily returns                \n",
    "    pfl_returns = pfl_value.pct_change()[1:]\n",
    "\n",
    "    # VaR is equal to the a-th quantile\n",
    "    var = pfl_returns.quantile(alpha)\n",
    "\n",
    "    # CVaR is equal to the mean of returns below VaR\n",
    "    cvar = pfl_returns[pfl_returns <= var].mean()\n",
    "\n",
    "    return var, cvar "
   ],
   "outputs": [],
   "metadata": {}
  },
  {
   "cell_type": "code",
   "execution_count": 466,
   "source": [
    "var95, cvar95 = var_historical(history, weights, alpha=0.05)\n",
    "print(\"Historical VaR95% = {:.2f}%, Historical CVaR95% = {:.2f}%\".format(var95*100, cvar95*100))"
   ],
   "outputs": [
    {
     "output_type": "stream",
     "name": "stdout",
     "text": [
      "Historical VaR95% = -1.47%, Historical CVaR95% = -2.22%\n"
     ]
    }
   ],
   "metadata": {}
  },
  {
   "cell_type": "markdown",
   "source": [
    "<h1>Part 4(b): VaR95% and CVaR95% using expected mean, covariance matrix and parametric method</h1>"
   ],
   "metadata": {}
  },
  {
   "cell_type": "code",
   "execution_count": 467,
   "source": [
    "from scipy.stats import norm"
   ],
   "outputs": [],
   "metadata": {}
  },
  {
   "cell_type": "code",
   "execution_count": 471,
   "source": [
    "def var_parametric(history, weights, alpha):\n",
    "    \"\"\"\n",
    "    Compute VaR and CVaR for a given data using parametric method\n",
    "\n",
    "    Arguments:\n",
    "    history -- historical price data (output from yahoo finance download), dataframe\n",
    "    weights -- list of weights (same ticker order as history columns), np.array\n",
    "    alpha -- level of significance, int\n",
    "\n",
    "    Return:\n",
    "    var -- float\n",
    "    cvar -- float\n",
    "    \"\"\"\n",
    "    if alpha > 1 or alpha < 0:\n",
    "        raise ValueError(\"Alpha must be between 0 and 1\")\n",
    "\n",
    "    # Compute daily returns\n",
    "    daily_returns = history.pct_change()[1:]\n",
    "\n",
    "    # Compute covariance matrix\n",
    "    cov_matrix = daily_returns.cov()\n",
    "\n",
    "    # Compute expected returns for each ticker\n",
    "    avg_returns = daily_returns.mean()\n",
    "\n",
    "    # Compute portfolio daily returns mean and standard deviation\n",
    "    pfl_ret_mean = avg_returns.dot(weights)\n",
    "    pfl_ret_stdev = np.sqrt(weights.T.dot(cov_matrix).dot(weights))\n",
    "\n",
    "    # VaR is equal the a-th percentile assuming normal distribution\n",
    "    var = norm.ppf(alpha)*pfl_ret_stdev + pfl_ret_mean\n",
    "\n",
    "    # CVaR is equal to the expectation of returns below VaR\n",
    "    cvar = pfl_ret_mean - (1/alpha)*norm.pdf(norm.ppf(alpha))*pfl_ret_stdev\n",
    "\n",
    "    return var, cvar"
   ],
   "outputs": [],
   "metadata": {}
  },
  {
   "cell_type": "code",
   "execution_count": 472,
   "source": [
    "var95, cvar95 = var_parametric(history, weights, alpha=0.05)\n",
    "print(\"Parametric VaR95% = {:.2f}%, Parametric CVaR95% = {:.2f}%\".format(var95*100, cvar95*100))"
   ],
   "outputs": [
    {
     "output_type": "stream",
     "name": "stdout",
     "text": [
      "Parametric VaR95% = -1.49%, Parametric CVaR95% = -1.89%\n"
     ]
    }
   ],
   "metadata": {}
  },
  {
   "cell_type": "markdown",
   "source": [
    "<h1>Part 4(c): Optimal portfolio</h1>\n",
    "\n",
    "Assumptions:\n",
    "- for each month rebalancing, we use all available historical data from 2016/01/01 onwards to optimize portfolio\n",
    "- assume 252 trading days, 21 days a month\n",
    "- optimal portfolio has the highest Sharpe ratio\n",
    "- monthly risk free rate $\\approx$ 0.12%"
   ],
   "metadata": {}
  },
  {
   "cell_type": "code",
   "execution_count": 525,
   "source": [
    "def sim_portfolios(history, n=10000):\n",
    "    \"\"\"\n",
    "    Run a simulation of portfolios with randomized weights\n",
    "\n",
    "    Arguments:\n",
    "    history -- historical price data (output from yahoo finance download), dataframe\n",
    "    n -- number of iterations, integer\n",
    "\n",
    "    Return:\n",
    "    portfolios -- simulation results containing weights, returns and volatility, dataframe\n",
    "    \"\"\"\n",
    "    tickers = list(history.columns)\n",
    "    portfolios = [] # Empty list to store simulation results\n",
    "\n",
    "    # Compute daily returns\n",
    "    daily_returns = history.pct_change()[1:]\n",
    "\n",
    "    # Compute covariance matrix\n",
    "    cov_matrix = daily_returns.cov()\n",
    "\n",
    "    # Compute expected returns for each ticker for 1-month's horizon\n",
    "    avg_returns = history.resample('M').last().pct_change().mean()\n",
    "\n",
    "    # Simulate n portfolios with random weights\n",
    "    for i in range(n):\n",
    "        weights = np.random.uniform(-1, 1, len(tickers)) # Initialize random weights\n",
    "        weights = weights/np.sum(weights) # Normalize weights to a sum of 1\n",
    "\n",
    "        # Skip iteration if normalized weights have values bigger than 1\n",
    "        if sum(abs(weights) > 1) > 0:\n",
    "            continue\n",
    "\n",
    "        returns = avg_returns.dot(weights) # Compute expected portfolio returns\n",
    "        \n",
    "        # Compute daily volatility\n",
    "        volatility = np.sqrt(weights.T.dot(cov_matrix).dot(weights))*np.sqrt(21)\n",
    "\n",
    "        # Store result in list\n",
    "        portfolios.append(weights.tolist() + [returns, volatility])\n",
    "\n",
    "    # Store results in a dataframe\n",
    "    portfolios = pd.DataFrame(portfolios)\n",
    "    portfolios.columns = tickers + [\"Returns\", \"Volatility\"]\n",
    "\n",
    "    return portfolios"
   ],
   "outputs": [],
   "metadata": {}
  },
  {
   "cell_type": "code",
   "execution_count": 534,
   "source": [
    "def monthly_rebalance(history, n=10000, rf=0.0012):\n",
    "    \"\"\"\n",
    "    Rebalance portfolio at the end of every month using simulation\n",
    "\n",
    "    Arguments:\n",
    "    history -- historical price data (output from yahoo finance download), dataframe\n",
    "    n -- number of iterations, integer\n",
    "\n",
    "    Return:\n",
    "    weights -- rebalanced weights at the end of every month, dataframe\n",
    "    \"\"\"\n",
    "    tickers = list(history.columns)\n",
    "    \n",
    "    # Get a list of end-of-month dates\n",
    "    eom = history.resample('M').last()\n",
    "\n",
    "    weights = []\n",
    "\n",
    "    for date in eom.index[1:]:\n",
    "        # Run a simulation for the given end-of-month\n",
    "        portfolios = sim_portfolios(history[:date], n=n)\n",
    "\n",
    "        # Get the index of the portfolio with the highest Sharpe ratio\n",
    "        optimal_pfl_index = ((portfolios['Returns'] - rf)/portfolios['Volatility']).idxmax()\n",
    "\n",
    "        # Get the weights, returns and volatility details of the optimal portfolio\n",
    "        optimal_pfl = portfolios.iloc[optimal_pfl_index]\n",
    "\n",
    "        # Add optimal portfolio details in weights\n",
    "        weights.append(optimal_pfl[:len(tickers)].to_list())\n",
    "\n",
    "    # Store optimal portfolio details in a dataframe\n",
    "    weights = pd.DataFrame(weights, index=eom.index[1:])\n",
    "    weights.columns = tickers\n",
    "\n",
    "    return weights"
   ],
   "outputs": [],
   "metadata": {}
  },
  {
   "cell_type": "code",
   "execution_count": 535,
   "source": [
    "monthly_weights = monthly_rebalance(history, n=10000)\n",
    "print(\"Optimal portfolio holding by end of each month:\")\n",
    "monthly_weights"
   ],
   "outputs": [
    {
     "output_type": "stream",
     "name": "stdout",
     "text": [
      "Optimal portfolio holding by end of each month:\n"
     ]
    },
    {
     "output_type": "execute_result",
     "data": {
      "text/plain": [
       "                AAPL        BP      COST      GOOG        GS       IBM  \\\n",
       "Date                                                                     \n",
       "2016-01-31 -0.137871  0.938628  0.193286  0.623872 -0.918836 -0.353434   \n",
       "2016-02-29  0.391862 -0.273992 -0.511220  0.397057 -0.821566  0.874927   \n",
       "2016-03-31  0.264058 -0.147955 -0.126489  0.364385 -0.820371  0.890063   \n",
       "2016-04-30 -0.277878  0.536469  0.038647 -0.046260 -0.916045  0.722987   \n",
       "2016-05-31  0.352262 -0.088291 -0.652819  0.346770 -0.418369  0.697990   \n",
       "2016-06-30 -0.422131  0.447595  0.429612 -0.163247 -0.711173  0.711924   \n",
       "2016-07-31  0.117086 -0.065367  0.102645  0.052224 -0.709236  0.802340   \n",
       "2016-08-31  0.054657 -0.145198  0.208894  0.013611 -0.432460  0.787875   \n",
       "2016-09-30  0.268897 -0.086187  0.019806  0.138269 -0.839019  0.953956   \n",
       "2016-10-31  0.303925  0.458407 -0.905235  0.496104 -0.832490  0.840399   \n",
       "2016-11-30  0.377181 -0.223764 -0.500926 -0.392054  0.624745  0.688856   \n",
       "2016-12-31  0.478223 -0.357121 -0.390498 -0.536673  0.859057  0.564821   \n",
       "\n",
       "                 XOM  \n",
       "Date                  \n",
       "2016-01-31  0.654355  \n",
       "2016-02-29  0.942933  \n",
       "2016-03-31  0.576309  \n",
       "2016-04-30  0.942078  \n",
       "2016-05-31  0.762458  \n",
       "2016-06-30  0.707421  \n",
       "2016-07-31  0.700308  \n",
       "2016-08-31  0.512622  \n",
       "2016-09-30  0.544277  \n",
       "2016-10-31  0.638890  \n",
       "2016-11-30  0.425962  \n",
       "2016-12-31  0.382191  "
      ],
      "text/html": [
       "<div>\n",
       "<style scoped>\n",
       "    .dataframe tbody tr th:only-of-type {\n",
       "        vertical-align: middle;\n",
       "    }\n",
       "\n",
       "    .dataframe tbody tr th {\n",
       "        vertical-align: top;\n",
       "    }\n",
       "\n",
       "    .dataframe thead th {\n",
       "        text-align: right;\n",
       "    }\n",
       "</style>\n",
       "<table border=\"1\" class=\"dataframe\">\n",
       "  <thead>\n",
       "    <tr style=\"text-align: right;\">\n",
       "      <th></th>\n",
       "      <th>AAPL</th>\n",
       "      <th>BP</th>\n",
       "      <th>COST</th>\n",
       "      <th>GOOG</th>\n",
       "      <th>GS</th>\n",
       "      <th>IBM</th>\n",
       "      <th>XOM</th>\n",
       "    </tr>\n",
       "    <tr>\n",
       "      <th>Date</th>\n",
       "      <th></th>\n",
       "      <th></th>\n",
       "      <th></th>\n",
       "      <th></th>\n",
       "      <th></th>\n",
       "      <th></th>\n",
       "      <th></th>\n",
       "    </tr>\n",
       "  </thead>\n",
       "  <tbody>\n",
       "    <tr>\n",
       "      <th>2016-01-31</th>\n",
       "      <td>-0.137871</td>\n",
       "      <td>0.938628</td>\n",
       "      <td>0.193286</td>\n",
       "      <td>0.623872</td>\n",
       "      <td>-0.918836</td>\n",
       "      <td>-0.353434</td>\n",
       "      <td>0.654355</td>\n",
       "    </tr>\n",
       "    <tr>\n",
       "      <th>2016-02-29</th>\n",
       "      <td>0.391862</td>\n",
       "      <td>-0.273992</td>\n",
       "      <td>-0.511220</td>\n",
       "      <td>0.397057</td>\n",
       "      <td>-0.821566</td>\n",
       "      <td>0.874927</td>\n",
       "      <td>0.942933</td>\n",
       "    </tr>\n",
       "    <tr>\n",
       "      <th>2016-03-31</th>\n",
       "      <td>0.264058</td>\n",
       "      <td>-0.147955</td>\n",
       "      <td>-0.126489</td>\n",
       "      <td>0.364385</td>\n",
       "      <td>-0.820371</td>\n",
       "      <td>0.890063</td>\n",
       "      <td>0.576309</td>\n",
       "    </tr>\n",
       "    <tr>\n",
       "      <th>2016-04-30</th>\n",
       "      <td>-0.277878</td>\n",
       "      <td>0.536469</td>\n",
       "      <td>0.038647</td>\n",
       "      <td>-0.046260</td>\n",
       "      <td>-0.916045</td>\n",
       "      <td>0.722987</td>\n",
       "      <td>0.942078</td>\n",
       "    </tr>\n",
       "    <tr>\n",
       "      <th>2016-05-31</th>\n",
       "      <td>0.352262</td>\n",
       "      <td>-0.088291</td>\n",
       "      <td>-0.652819</td>\n",
       "      <td>0.346770</td>\n",
       "      <td>-0.418369</td>\n",
       "      <td>0.697990</td>\n",
       "      <td>0.762458</td>\n",
       "    </tr>\n",
       "    <tr>\n",
       "      <th>2016-06-30</th>\n",
       "      <td>-0.422131</td>\n",
       "      <td>0.447595</td>\n",
       "      <td>0.429612</td>\n",
       "      <td>-0.163247</td>\n",
       "      <td>-0.711173</td>\n",
       "      <td>0.711924</td>\n",
       "      <td>0.707421</td>\n",
       "    </tr>\n",
       "    <tr>\n",
       "      <th>2016-07-31</th>\n",
       "      <td>0.117086</td>\n",
       "      <td>-0.065367</td>\n",
       "      <td>0.102645</td>\n",
       "      <td>0.052224</td>\n",
       "      <td>-0.709236</td>\n",
       "      <td>0.802340</td>\n",
       "      <td>0.700308</td>\n",
       "    </tr>\n",
       "    <tr>\n",
       "      <th>2016-08-31</th>\n",
       "      <td>0.054657</td>\n",
       "      <td>-0.145198</td>\n",
       "      <td>0.208894</td>\n",
       "      <td>0.013611</td>\n",
       "      <td>-0.432460</td>\n",
       "      <td>0.787875</td>\n",
       "      <td>0.512622</td>\n",
       "    </tr>\n",
       "    <tr>\n",
       "      <th>2016-09-30</th>\n",
       "      <td>0.268897</td>\n",
       "      <td>-0.086187</td>\n",
       "      <td>0.019806</td>\n",
       "      <td>0.138269</td>\n",
       "      <td>-0.839019</td>\n",
       "      <td>0.953956</td>\n",
       "      <td>0.544277</td>\n",
       "    </tr>\n",
       "    <tr>\n",
       "      <th>2016-10-31</th>\n",
       "      <td>0.303925</td>\n",
       "      <td>0.458407</td>\n",
       "      <td>-0.905235</td>\n",
       "      <td>0.496104</td>\n",
       "      <td>-0.832490</td>\n",
       "      <td>0.840399</td>\n",
       "      <td>0.638890</td>\n",
       "    </tr>\n",
       "    <tr>\n",
       "      <th>2016-11-30</th>\n",
       "      <td>0.377181</td>\n",
       "      <td>-0.223764</td>\n",
       "      <td>-0.500926</td>\n",
       "      <td>-0.392054</td>\n",
       "      <td>0.624745</td>\n",
       "      <td>0.688856</td>\n",
       "      <td>0.425962</td>\n",
       "    </tr>\n",
       "    <tr>\n",
       "      <th>2016-12-31</th>\n",
       "      <td>0.478223</td>\n",
       "      <td>-0.357121</td>\n",
       "      <td>-0.390498</td>\n",
       "      <td>-0.536673</td>\n",
       "      <td>0.859057</td>\n",
       "      <td>0.564821</td>\n",
       "      <td>0.382191</td>\n",
       "    </tr>\n",
       "  </tbody>\n",
       "</table>\n",
       "</div>"
      ]
     },
     "metadata": {},
     "execution_count": 535
    }
   ],
   "metadata": {}
  },
  {
   "cell_type": "markdown",
   "source": [
    "<h1>Part 5(a): Count of Python Files</h1>\n",
    "\n",
    "Using Linux commands."
   ],
   "metadata": {}
  },
  {
   "cell_type": "code",
   "execution_count": 28,
   "source": [
    "%%bash\n",
    "\n",
    "find ./data/my-python-project -type f -name \"*.py\" | wc -l\n",
    "#type f: files only\n",
    "#name \"*.py\": name must have .py extension\n",
    "#wc -l: count the number of lines of the output"
   ],
   "outputs": [
    {
     "output_type": "stream",
     "name": "stdout",
     "text": [
      "      10\n"
     ]
    }
   ],
   "metadata": {}
  },
  {
   "cell_type": "markdown",
   "source": [
    "<h1>Part 5(b): Count number of lines excluding comment and empty lines</h1>"
   ],
   "metadata": {}
  },
  {
   "cell_type": "code",
   "execution_count": 24,
   "source": [
    "%%bash\n",
    "\n",
    "cat `find ./data/my-python-project -type f -name \"*.py\" ` | tr -d \" \\t\" | grep . | grep -v ^# | wc -l\n",
    "#cat: list of contents\n",
    "#tr -d: trim tab and empty spaces\n",
    "#grep .: remove empty lines (. matches with all characters except return)\n",
    "#grep -v ^#: retrieve non-matching lines i.e. lines not starting with #"
   ],
   "outputs": [
    {
     "output_type": "stream",
     "name": "stdout",
     "text": [
      "     126\n"
     ]
    }
   ],
   "metadata": {}
  },
  {
   "cell_type": "markdown",
   "source": [
    "<h1>Part 5(c): Count of defined functions</h1>"
   ],
   "metadata": {}
  },
  {
   "cell_type": "code",
   "execution_count": 49,
   "source": [
    "%%bash\n",
    "\n",
    "cat `find ./data/my-python-project -type f -name \"*.py\" ` | tr -d \" \\t\" | grep . | grep ^def | wc -l\n",
    "#grep ^def: retrieve matching lines i.e. lines starting with def"
   ],
   "outputs": [
    {
     "output_type": "stream",
     "name": "stdout",
     "text": [
      "       7\n"
     ]
    }
   ],
   "metadata": {}
  },
  {
   "cell_type": "markdown",
   "source": [
    "<h1>Part 5(d): Count number of changed lines</h1>"
   ],
   "metadata": {}
  },
  {
   "cell_type": "code",
   "execution_count": 565,
   "source": [
    "%%bash\n",
    "\n",
    "!git --git-dir ./data/my-python-project/.git diff --shortstat HEAD~3 HEAD\n",
    "#--git-dir: change git directory to run command on\n",
    "#diff: changelogs\n",
    "#--shortstat: get only the summary of insertions and deletions"
   ],
   "outputs": [
    {
     "output_type": "stream",
     "name": "stdout",
     "text": [
      " 3 files changed, 13 insertions(+), 7 deletions(-)\n"
     ]
    }
   ],
   "metadata": {}
  },
  {
   "cell_type": "markdown",
   "source": [
    "<h1>Part 5(e): Total folder size in MB per each of the subfolder</h1>"
   ],
   "metadata": {}
  },
  {
   "cell_type": "code",
   "execution_count": 2,
   "source": [
    "%%bash\n",
    "\n",
    "du -h -d 2 ./data/ | awk '{printf \"%.4f MB %s\\n\", $1/1024, $2}'\n",
    "\n",
    "#-h: readable format\n",
    "#-d: max-depth\n",
    "#awk: perform action on each line\n"
   ],
   "outputs": [
    {
     "output_type": "stream",
     "name": "stdout",
     "text": [
      "0.0000 MB ./data//my-python-project/sub-folder2\n",
      "0.0234 MB ./data//my-python-project/sub-folder1\n",
      "0.0742 MB ./data//my-python-project/.git\n",
      "0.1094 MB ./data//my-python-project\n",
      "0.1250 MB ./data/\n"
     ]
    }
   ],
   "metadata": {}
  },
  {
   "cell_type": "markdown",
   "source": [
    "<h1>Part 6: Count Dates</h1>"
   ],
   "metadata": {}
  },
  {
   "cell_type": "code",
   "execution_count": 537,
   "source": [
    "import re\n",
    "import dateutil"
   ],
   "outputs": [],
   "metadata": {}
  },
  {
   "cell_type": "code",
   "execution_count": 538,
   "source": [
    "# Formats for date parts\n",
    "DAY = \"\\d{2}\" # Capture any 2 digits number\n",
    "MONTH = \"\\d{2}\" # Capture any 2 digits number \n",
    "MONTHSTR = \"Jan|Feb|Mar|Apr|May|Jun|Jul|Aug|Sept|Oct|Nov|Dec\" # Capture abbreviated months\n",
    "YEAR = \"\\d{4}\" # Capture any 4 digits number \n",
    "\n",
    "DATE_PATTERNS = r\"\"\"\n",
    "    (?:{year})/(?:{month})/(?:{day}) | # Capture YYYY/MM/DD format\n",
    "    (?:{month})/(?:{day})/(?:{year}) | # Capture MM/DD/YYYY format\n",
    "    (?:{day})/(?:{month})/(?:{year}) | # Capture DD/MM/YYYY format\n",
    "    (?:{day})[ ](?:{monthstr})[ ](?:{year}) # Capture DD MMM YYYY format\n",
    "\"\"\"\n",
    "\n",
    "DATE_PATTERNS = DATE_PATTERNS.format(\n",
    "    day=DAY,\n",
    "    month=MONTH,\n",
    "    monthstr=MONTHSTR,\n",
    "    year=YEAR\n",
    ")\n",
    "\n",
    "DATE_REGEX = re.compile(DATE_PATTERNS, re.VERBOSE) # Compile with verbose"
   ],
   "outputs": [],
   "metadata": {}
  },
  {
   "cell_type": "code",
   "execution_count": 539,
   "source": [
    "def count_dates(text):\n",
    "    \"\"\"\n",
    "    Count the number of date occurences in a text\n",
    "\n",
    "    Arguments:\n",
    "    text -- string\n",
    "\n",
    "    Return:\n",
    "    count -- number of date occurences, integer\n",
    "    \"\"\"\n",
    "    # Initiate count to zero\n",
    "    count = 0\n",
    "    \n",
    "    # Loop through all potential matches\n",
    "    for val in DATE_REGEX.findall(text):\n",
    "        try: \n",
    "             # Pass through potential match into a built-in date parse to check validity\n",
    "            dateutil.parser.parse(val)\n",
    "            count += 1\n",
    "        except ValueError:\n",
    "            pass\n",
    "\n",
    "    return count"
   ],
   "outputs": [],
   "metadata": {}
  },
  {
   "cell_type": "code",
   "execution_count": 540,
   "source": [
    "with open('data/date_text.txt') as f:\n",
    "    text = f.read()\n",
    "\n",
    "count = count_dates(text)\n",
    "print(\"Number of date occurences: \", count)"
   ],
   "outputs": [
    {
     "output_type": "stream",
     "name": "stdout",
     "text": [
      "Number of date occurences:  8\n"
     ]
    }
   ],
   "metadata": {}
  }
 ],
 "metadata": {
  "orig_nbformat": 4,
  "language_info": {
   "name": "python",
   "version": "3.8.2",
   "mimetype": "text/x-python",
   "codemirror_mode": {
    "name": "ipython",
    "version": 3
   },
   "pygments_lexer": "ipython3",
   "nbconvert_exporter": "python",
   "file_extension": ".py"
  },
  "kernelspec": {
   "name": "python3",
   "display_name": "Python 3.8.2 64-bit"
  },
  "interpreter": {
   "hash": "31f2aee4e71d21fbe5cf8b01ff0e069b9275f58929596ceb00d14d90e3e16cd6"
  }
 },
 "nbformat": 4,
 "nbformat_minor": 2
}